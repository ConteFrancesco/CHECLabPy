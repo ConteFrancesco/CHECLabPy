{
  "cells": [
    {
      "cell_type": "markdown",
      "metadata": {
        "pycharm": {}
      },
      "source": [
        "# Reading sim_telarray Files\n",
        "\n",
        "It is also possible to read sim_telarray files with CHECLabPy. This functionality is provided through the `SimtelEventSource` class from ctapipe.\n",
        "\n",
        "## Setup\n",
        "\n",
        "Check the ctapipe is installed:"
      ]
    },
    {
      "cell_type": "code",
      "execution_count": null,
      "metadata": {
        "pycharm": {}
      },
      "outputs": [],
      "source": [
        "import ctapipe\n",
        "import eventio"
      ]
    },
    {
      "cell_type": "markdown",
      "metadata": {
        "pycharm": {}
      },
      "source": [
        "## Files\n",
        "\n",
        "For this tutorial, a simtelarray file is required. CHECLabPy assumes the simtel file contains only a single telescope, containing a CHEC camera."
      ]
    },
    {
      "cell_type": "code",
      "execution_count": null,
      "metadata": {
        "pycharm": {}
      },
      "outputs": [],
      "source": [
        "simtel_path \u003d \"/Users/Jason/Downloads/Run00001.simtel.gz\""
      ]
    },
    {
      "cell_type": "markdown",
      "metadata": {
        "pycharm": {}
      },
      "source": [
        "## Extracting DL1\n",
        "\n",
        "DL1 information can be extracted in the same way as from TIO waveforms with extract_dl1.py:"
      ]
    },
    {
      "cell_type": "code",
      "execution_count": null,
      "metadata": {
        "pycharm": {}
      },
      "outputs": [],
      "source": [
        "!extract_dl1 -h"
      ]
    },
    {
      "cell_type": "code",
      "execution_count": null,
      "metadata": {
        "pycharm": {}
      },
      "outputs": [],
      "source": [
        "!extract_dl1 -f $simtel_path"
      ]
    },
    {
      "cell_type": "markdown",
      "metadata": {
        "pycharm": {}
      },
      "source": [
        "## DL1 File Contents\n",
        "\n",
        "The DL1 file produced from simtel waveforms contains all the same information as a DL1 file produced from TIO waveforms (plus the true photoelectron number in each pixel, \"mc_true\"). The same `DL1Reader` class can be used to read the file:"
      ]
    },
    {
      "cell_type": "code",
      "execution_count": null,
      "metadata": {
        "pycharm": {}
      },
      "outputs": [],
      "source": [
        "from CHECLabPy.core.io import DL1Reader\n",
        "dl1_path \u003d simtel_path.replace(\".simtel.gz\", \"_dl1.h5\")\n",
        "reader \u003d DL1Reader(dl1_path)\n",
        "reader.load_entire_table()"
      ]
    },
    {
      "cell_type": "markdown",
      "metadata": {
        "pycharm": {}
      },
      "source": [
        "Additionally, inside a simtel-DL1 file one can find the MC, pointing, and MC Header information:"
      ]
    },
    {
      "cell_type": "code",
      "execution_count": null,
      "metadata": {
        "pycharm": {}
      },
      "outputs": [],
      "source": [
        "reader.read(\"mc\")"
      ]
    },
    {
      "cell_type": "code",
      "execution_count": null,
      "metadata": {
        "pycharm": {}
      },
      "outputs": [],
      "source": [
        "reader.read(\"pointing\")"
      ]
    },
    {
      "cell_type": "code",
      "execution_count": null,
      "metadata": {
        "pycharm": {}
      },
      "outputs": [],
      "source": [
        "reader.get_metadata(name\u003d\u0027mcheader\u0027)"
      ]
    },
    {
      "cell_type": "markdown",
      "metadata": {
        "pycharm": {}
      },
      "source": [
        "## Reading simtel Waveforms\n",
        "\n",
        "If you wish to have a look at the waveforms themselves, this can be achieved with the `SimtelReader` class. This class behaves very similarly to `TIOReader`:"
      ]
    },
    {
      "cell_type": "code",
      "execution_count": null,
      "metadata": {
        "pycharm": {}
      },
      "outputs": [],
      "source": [
        "%matplotlib inline"
      ]
    },
    {
      "cell_type": "code",
      "execution_count": null,
      "metadata": {
        "pycharm": {}
      },
      "outputs": [],
      "source": [
        "from CHECLabPy.core.io import SimtelReader\n",
        "from matplotlib import pyplot as plt\n",
        "reader \u003d SimtelReader(simtel_path)\n",
        "wf \u003d reader[10]\n",
        "print(wf.shape)\n",
        "plt.plot(wf.T)\n",
        "plt.show()"
      ]
    },
    {
      "cell_type": "markdown",
      "metadata": {
        "pycharm": {}
      },
      "source": [
        "## Plotting Camera Images\n",
        "\n",
        "Camera images can be plotted from extract_dl1_simtel-produced DL1 files in the same way as shown for other DL1 files:"
      ]
    },
    {
      "cell_type": "code",
      "execution_count": null,
      "metadata": {
        "pycharm": {}
      },
      "outputs": [],
      "source": "# Plotting a camera image of charge extracted per pixel for the nth event\nfrom matplotlib import pyplot as plt\nfrom CHECLabPy.core.io import DL1Reader\nfrom CHECLabPy.plotting.camera import CameraImage\n\nreader \u003d DL1Reader(dl1_path)\n\ncharge \u003d reader[100][\u0027charge_cc\u0027].values\n\ncamera \u003d CameraImage.from_mapping(reader.mapping)\ncamera.image \u003d charge\ncamera.add_colorbar(label\u003d\"Charge\")\ncamera.annotate_on_telescope_up()\n\nplt.show()"
    }
  ],
  "metadata": {
    "kernelspec": {
      "display_name": "cta",
      "language": "python",
      "name": "cta"
    },
    "language_info": {
      "codemirror_mode": {
        "name": "ipython",
        "version": 3
      },
      "file_extension": ".py",
      "mimetype": "text/x-python",
      "name": "python",
      "nbconvert_exporter": "python",
      "pygments_lexer": "ipython3",
      "version": "3.7.2"
    }
  },
  "nbformat": 4,
  "nbformat_minor": 2
}