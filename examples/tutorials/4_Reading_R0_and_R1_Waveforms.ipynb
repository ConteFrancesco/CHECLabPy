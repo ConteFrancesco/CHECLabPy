{
  "cells": [
    {
      "cell_type": "markdown",
      "metadata": {
        "pycharm": {}
      },
      "source": [
        "# Reading R0/R1 Waveforms\n",
        "\n",
        "If you instead wanted to do some very specific analysis of the waveforms themselves, that does not fit in the reduction scheme described in the previous tutorials, CHECLabPy contains some classes that simplify the reading of .tio files in Python.\n",
        "\n",
        "For this tutorial you need TargetDriver, TargetIO and TargetCalib installed.\n",
        "\n",
        "## Setup\n",
        "\n",
        "Prepare your machine and environment by following the instructions at: https://forge.in2p3.fr/projects/gct/wiki/Installing_CHEC_Software\n",
        "\n",
        "If you do not wish to install the TARGET libraries as you will only be reading DL1 files, you can skip this tutorial.\n",
        "\n",
        "Check the installation was successful by running these lines:"
      ]
    },
    {
      "cell_type": "code",
      "execution_count": null,
      "metadata": {
        "pycharm": {}
      },
      "outputs": [],
      "source": [
        "import target_driver\n",
        "import target_io\n",
        "import target_calib"
      ]
    },
    {
      "cell_type": "markdown",
      "metadata": {
        "pycharm": {}
      },
      "source": [
        "## Files\n",
        "\n",
        "To run this tutorial you must download a reference dataset (using the username and password Rich has sent around in emails/Slack). This file required for this tutorial is a calibrated R1 file. This run corresponds to a ~50 p.e. illumination run."
      ]
    },
    {
      "cell_type": "code",
      "execution_count": null,
      "metadata": {
        "pycharm": {}
      },
      "outputs": [],
      "source": [
        "username \u003d \u0027***\u0027\n",
        "pw \u003d \u0027***\u0027\n",
        "r0_url \u003d \u0027https://www.mpi-hd.mpg.de/personalhomes/white/checs/data/d0000_ReferenceData/Run17473_r0.tio\u0027\n",
        "r1_url \u003d \u0027https://www.mpi-hd.mpg.de/personalhomes/white/checs/data/d0000_ReferenceData/Run17473_r1.tio\u0027"
      ]
    },
    {
      "cell_type": "code",
      "execution_count": null,
      "metadata": {
        "pycharm": {}
      },
      "outputs": [],
      "source": [
        "!mkdir refdata\n",
        "!wget --user $username --password $pw -P refdata $r0_url\n",
        "!wget --user $username --password $pw -P refdata $r1_url"
      ]
    },
    {
      "cell_type": "code",
      "execution_count": null,
      "metadata": {
        "pycharm": {}
      },
      "outputs": [],
      "source": [
        "r0_path \u003d \"refdata/Run17473_r0.tio\"\n",
        "r1_path \u003d \"refdata/Run17473_r1.tio\""
      ]
    },
    {
      "cell_type": "markdown",
      "metadata": {
        "pycharm": {}
      },
      "source": [
        "## Reading the file\n",
        "\n",
        "The class to read TIO files is called `TIOReader:"
      ]
    },
    {
      "cell_type": "code",
      "execution_count": null,
      "metadata": {
        "pycharm": {}
      },
      "outputs": [],
      "source": [
        "from CHECLabPy.core.io import TIOReader\n",
        "reader \u003d TIOReader(r1_path)"
      ]
    },
    {
      "cell_type": "markdown",
      "metadata": {
        "pycharm": {}
      },
      "source": [
        "### Metadata\n",
        "\n",
        "With this reader you can find out a lot of information about the file:"
      ]
    },
    {
      "cell_type": "code",
      "execution_count": null,
      "metadata": {
        "pycharm": {}
      },
      "outputs": [],
      "source": [
        "print(\"R1 Calibrated: \", reader.is_r1)\n",
        "print(\"N_events: \", reader.n_events)\n",
        "print(\"N_pixels: \", reader.n_pixels)\n",
        "print(\"N_samples\", reader.n_samples)\n",
        "print(\"Camera Version: \", reader.camera_version)"
      ]
    },
    {
      "cell_type": "markdown",
      "metadata": {
        "pycharm": {}
      },
      "source": [
        "### Mapping\n",
        "\n",
        "The pixel mapping for the file can automatically be obtained. This includes the TargetCalib Mapping class, and the CHECLabPy mapping DataFrame. The latter is generated from the former."
      ]
    },
    {
      "cell_type": "code",
      "execution_count": null,
      "metadata": {
        "pycharm": {}
      },
      "outputs": [],
      "source": [
        "reader.tc_mapping"
      ]
    },
    {
      "cell_type": "code",
      "execution_count": null,
      "metadata": {
        "pycharm": {}
      },
      "outputs": [],
      "source": [
        "reader.mapping"
      ]
    },
    {
      "cell_type": "markdown",
      "metadata": {
        "pycharm": {}
      },
      "source": [
        "### Indexing\n",
        "\n",
        "The reader can be indexed to extract the waveforms of an event:"
      ]
    },
    {
      "cell_type": "code",
      "execution_count": null,
      "metadata": {
        "pycharm": {}
      },
      "outputs": [],
      "source": [
        "wf \u003d reader[0]  # Obtain the waveforms for every pixel for the first event\n",
        "print(wf.shape)"
      ]
    },
    {
      "cell_type": "code",
      "execution_count": null,
      "metadata": {
        "pycharm": {}
      },
      "outputs": [],
      "source": [
        "wf \u003d reader[-1]  # Obtain the last event in the file"
      ]
    },
    {
      "cell_type": "code",
      "execution_count": null,
      "metadata": {
        "pycharm": {}
      },
      "outputs": [],
      "source": [
        "wfs \u003d reader[:10]  # Obtain the first 10 events in the file\n",
        "print(wfs.shape)"
      ]
    },
    {
      "cell_type": "markdown",
      "metadata": {
        "pycharm": {}
      },
      "source": [
        "Once an event has been extracted, further information about the event can be obtained:"
      ]
    },
    {
      "cell_type": "code",
      "execution_count": null,
      "metadata": {
        "pycharm": {}
      },
      "outputs": [],
      "source": "wf \u003d reader[10]\nprint(\"Time of event: \", wf.t_cpu)\nprint(\"Event TACK: \", wf.t_tack)\nprint(\"TARGET ASIC Cell ID for first sample in event: \", wf.first_cell_id[0])\nprint(\"Is event stale? \", bool(wf.stale[0]))"
    },
    {
      "cell_type": "markdown",
      "metadata": {
        "pycharm": {}
      },
      "source": [
        "### Looping Over Events\n",
        "\n",
        "It is also possible to iterate over all the events in the file with a loop:"
      ]
    },
    {
      "cell_type": "code",
      "execution_count": null,
      "metadata": {
        "pycharm": {}
      },
      "outputs": [],
      "source": [
        "# Loop over events in file\n",
        "for wf in reader:\n",
        "    break"
      ]
    },
    {
      "cell_type": "markdown",
      "metadata": {
        "pycharm": {}
      },
      "source": [
        "## TIOReader Subclasses\n",
        "\n",
        "If you wish to force a script to only allow either R0 or R1 files to be read, one can use the `ReaderR0` and `ReaderR1` subclasses:"
      ]
    },
    {
      "cell_type": "code",
      "execution_count": null,
      "metadata": {
        "pycharm": {}
      },
      "outputs": [],
      "source": "from CHECLabPy.core.io import ReaderR0\n\nreader_r0 \u003d ReaderR0(r0_path)  # Works\nprint(\"n_events \u003d \", reader_r0.n_events)\n\nreader_r0 \u003d ReaderR0(r1_path)  # Doesn\u0027t work - wrong file!"
    },
    {
      "cell_type": "markdown",
      "metadata": {
        "pycharm": {}
      },
      "source": [
        "## Analysis Example\n",
        "\n",
        "With the reading of waveforms into a numpy array automatically by the `TIOReader` class, it is very simple to create a plot of all waveforms in an event:"
      ]
    },
    {
      "cell_type": "code",
      "execution_count": null,
      "metadata": {
        "pycharm": {}
      },
      "outputs": [],
      "source": [
        "%matplotlib inline"
      ]
    },
    {
      "cell_type": "code",
      "execution_count": null,
      "metadata": {
        "pycharm": {}
      },
      "outputs": [],
      "source": [
        "from matplotlib import pyplot as plt\n",
        "from CHECLabPy.core.io import TIOReader\n",
        "reader \u003d TIOReader(r1_path)\n",
        "wf \u003d reader[10]\n",
        "plt.plot(wf.T)  # Transpose the waveform so the dimensions are more sensible for plotting\n",
        "plt.show()"
      ]
    }
  ],
  "metadata": {
    "kernelspec": {
      "display_name": "cta",
      "language": "python",
      "name": "cta"
    },
    "language_info": {
      "codemirror_mode": {
        "name": "ipython",
        "version": 3
      },
      "file_extension": ".py",
      "mimetype": "text/x-python",
      "name": "python",
      "nbconvert_exporter": "python",
      "pygments_lexer": "ipython3",
      "version": "3.7.2"
    }
  },
  "nbformat": 4,
  "nbformat_minor": 2
  "cells": [
    {
      "cell_type": "markdown",
      "metadata": {
        "pycharm": {}
      },
      "source": [
        "# Reading R0/R1 Waveforms\n",
        "\n",
        "If you instead wanted to do some very specific analysis of the waveforms themselves, that does not fit in the reduction scheme described in the previous tutorials, CHECLabPy contains some classes that simplify the reading of .tio files in Python.\n",
        "\n",
        "For this tutorial you need TargetDriver, TargetIO and TargetCalib installed.\n",
        "\n",
        "## Setup\n",
        "\n",
        "Prepare your machine and environment by following the instructions at: https://forge.in2p3.fr/projects/gct/wiki/Installing_CHEC_Software\n",
        "\n",
        "If you do not wish to install the TARGET libraries as you will only be reading DL1 files, you can skip this tutorial.\n",
        "\n",
        "Check the installation was successful by running these lines:"
      ]
    },
    {
      "cell_type": "code",
      "execution_count": null,
      "metadata": {
        "pycharm": {}
      },
      "outputs": [],
      "source": [
        "import target_driver\n",
        "import target_io\n",
        "import target_calib"
      ]
    },
    {
      "cell_type": "markdown",
      "metadata": {
        "pycharm": {}
      },
      "source": [
        "## Files\n",
        "\n",
        "To run this tutorial you must download a reference dataset (using the username and password Rich has sent around in emails/Slack). This file required for this tutorial is a calibrated R1 file. This run corresponds to a ~50 p.e. illumination run."
      ]
    },
    {
      "cell_type": "code",
      "execution_count": null,
      "metadata": {
        "pycharm": {}
      },
      "outputs": [],
      "source": [
        "username \u003d \u0027***\u0027\n",
        "pw \u003d \u0027***\u0027\n",
        "r0_url \u003d \u0027https://www.mpi-hd.mpg.de/personalhomes/white/checs/data/d0000_ReferenceData/Run17473_r0.tio\u0027\n",
        "r1_url \u003d \u0027https://www.mpi-hd.mpg.de/personalhomes/white/checs/data/d0000_ReferenceData/Run17473_r1.tio\u0027"
      ]
    },
    {
      "cell_type": "code",
      "execution_count": null,
      "metadata": {
        "pycharm": {}
      },
      "outputs": [],
      "source": [
        "!mkdir refdata\n",
        "!wget --user $username --password $pw -P refdata $r0_url\n",
        "!wget --user $username --password $pw -P refdata $r1_url"
      ]
    },
    {
      "cell_type": "code",
      "execution_count": null,
      "metadata": {
        "pycharm": {}
      },
      "outputs": [],
      "source": [
        "r0_path \u003d \"refdata/Run17473_r0.tio\"\n",
        "r1_path \u003d \"refdata/Run17473_r1.tio\""
      ]
    },
    {
      "cell_type": "markdown",
      "metadata": {
        "pycharm": {}
      },
      "source": [
        "## Reading the file\n",
        "\n",
        "The class to read TIO files is called `TIOReader:"
      ]
    },
    {
      "cell_type": "code",
      "execution_count": null,
      "metadata": {
        "pycharm": {}
      },
      "outputs": [],
      "source": [
        "from CHECLabPy.core.io import TIOReader\n",
        "reader \u003d TIOReader(r1_path)"
      ]
    },
    {
      "cell_type": "markdown",
      "metadata": {
        "pycharm": {}
      },
      "source": [
        "### Metadata\n",
        "\n",
        "With this reader you can find out a lot of information about the file:"
      ]
    },
    {
      "cell_type": "code",
      "execution_count": null,
      "metadata": {
        "pycharm": {}
      },
      "outputs": [],
      "source": [
        "print(\"R1 Calibrated: \", reader.is_r1)\n",
        "print(\"N_events: \", reader.n_events)\n",
        "print(\"N_pixels: \", reader.n_pixels)\n",
        "print(\"N_samples\", reader.n_samples)\n",
        "print(\"Camera Version: \", reader.camera_version)"
      ]
    },
    {
      "cell_type": "markdown",
      "metadata": {
        "pycharm": {}
      },
      "source": [
        "### Mapping\n",
        "\n",
        "The pixel mapping for the file can automatically be obtained. This includes the TargetCalib Mapping class, and the CHECLabPy mapping DataFrame. The latter is generated from the former."
      ]
    },
    {
      "cell_type": "code",
      "execution_count": null,
      "metadata": {
        "pycharm": {}
      },
      "outputs": [],
      "source": [
        "reader.tc_mapping"
      ]
    },
    {
      "cell_type": "code",
      "execution_count": null,
      "metadata": {
        "pycharm": {}
      },
      "outputs": [],
      "source": [
        "reader.mapping"
      ]
    },
    {
      "cell_type": "markdown",
      "metadata": {
        "pycharm": {}
      },
      "source": [
        "### Indexing\n",
        "\n",
        "The reader can be indexed to extract the waveforms of an event:"
      ]
    },
    {
      "cell_type": "code",
      "execution_count": null,
      "metadata": {
        "pycharm": {}
      },
      "outputs": [],
      "source": [
        "wf \u003d reader[0]  # Obtain the waveforms for every pixel for the first event\n",
        "print(wf.shape)"
      ]
    },
    {
      "cell_type": "code",
      "execution_count": null,
      "metadata": {
        "pycharm": {}
      },
      "outputs": [],
      "source": [
        "wf \u003d reader[-1]  # Obtain the last event in the file"
      ]
    },
    {
      "cell_type": "code",
      "execution_count": null,
      "metadata": {
        "pycharm": {}
      },
      "outputs": [],
      "source": [
        "wfs \u003d reader[:10]  # Obtain the first 10 events in the file\n",
        "print(wfs.shape)"
      ]
    },
    {
      "cell_type": "markdown",
      "metadata": {
        "pycharm": {}
      },
      "source": [
        "Once an event has been extracted, further information about the event can be obtained:"
      ]
    },
    {
      "cell_type": "code",
      "execution_count": null,
      "metadata": {
        "pycharm": {}
      },
      "outputs": [],
      "source": [
        "wf \u003d event[10]\n",
        "print(\"Time of event: \", reader.t_cpu)\n",
        "print(\"Event TACK: \", reader.current_tack)\n",
        "print(\"TARGET ASIC Cell ID for first sample in event: \", reader.first_cell_ids[0])\n",
        "print(\"Is event stale? \", bool(reader.stale[0]))"
      ]
    },
    {
      "cell_type": "markdown",
      "metadata": {
        "pycharm": {}
      },
      "source": [
        "### Looping Over Events\n",
        "\n",
        "It is also possible to iterate over all the events in the file with a loop:"
      ]
    },
    {
      "cell_type": "code",
      "execution_count": null,
      "metadata": {
        "pycharm": {}
      },
      "outputs": [],
      "source": [
        "# Loop over events in file\n",
        "for wf in reader:\n",
        "    break"
      ]
    },
    {
      "cell_type": "markdown",
      "metadata": {
        "pycharm": {}
      },
      "source": [
        "## TIOReader Subclasses\n",
        "\n",
        "If you wish to force a script to only allow either R0 or R1 files to be read, one can use the `ReaderR0` and `ReaderR1` subclasses:"
      ]
    },
    {
      "cell_type": "code",
      "execution_count": null,
      "metadata": {
        "pycharm": {}
      },
      "outputs": [],
      "source": [
        "from CHECLabPy.core.io import ReaderR0, ReaderR1\n",
        "\n",
        "reader_r0 \u003d ReaderR0(r0_path)  # Works\n",
        "print(\"n_events \u003d \", reader_r1.n_events)\n",
        "\n",
        "reader_r0 \u003d ReaderR0(r1_path)  # Doesn\u0027t work - wrong file!"
      ]
    },
    {
      "cell_type": "markdown",
      "metadata": {
        "pycharm": {}
      },
      "source": [
        "## Analysis Example\n",
        "\n",
        "With the reading of waveforms into a numpy array automatically by the `TIOReader` class, it is very simple to create a plot of all waveforms in an event:"
      ]
    },
    {
      "cell_type": "code",
      "execution_count": null,
      "metadata": {
        "pycharm": {}
      },
      "outputs": [],
      "source": [
        "%matplotlib inline"
      ]
    },
    {
      "cell_type": "code",
      "execution_count": null,
      "metadata": {
        "pycharm": {}
      },
      "outputs": [],
      "source": "from matplotlib import pyplot as plt\nfrom CHECLabPy.core.io import TIOReader\nreader \u003d TIOReader(r1_path)\nwf \u003d reader[10]\nplt.plot(wf.T)  # Transpose the waveform so the dimensions are more sensible for plotting\nplt.show()"
    }
  ],
  "metadata": {
    "kernelspec": {
      "display_name": "cta",
      "language": "python",
      "name": "cta"
    },
    "language_info": {
      "codemirror_mode": {
        "name": "ipython",
        "version": 3
      },
      "file_extension": ".py",
      "mimetype": "text/x-python",
      "name": "python",
      "nbconvert_exporter": "python",
      "pygments_lexer": "ipython3",
      "version": "3.7.2"
    }
  },
  "nbformat": 4,
  "nbformat_minor": 2
}