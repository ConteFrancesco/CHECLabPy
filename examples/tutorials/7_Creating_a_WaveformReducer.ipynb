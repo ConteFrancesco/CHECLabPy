{
  "cells": [
    {
      "cell_type": "markdown",
      "metadata": {
        "pycharm": {}
      },
      "source": [
        "# Creating A WaveformReducer\n",
        "\n",
        "The `WaveformReducer` functionality in CHECLabPy (and extract_dl1.py) is facilitated by two additional utilities: `column` and `WaveformReducerChain`. This tutorial will describe these objects, and show how to create your own simple `WaveformReducer`.\n",
        "\n",
        "## WaveformReducer\n",
        "\n",
        "An example of a `WaveformReducer` is shown below:"
      ]
    },
    {
      "cell_type": "code",
      "execution_count": null,
      "metadata": {
        "pycharm": {}
      },
      "outputs": [],
      "source": [
        "from CHECLabPy.core.reducer import WaveformReducer, column\n",
        "\n",
        "class WaveformMaxReducer(WaveformReducer):\n",
        "    @column\n",
        "    def waveform_max(self):\n",
        "        return self.waveforms.max(axis\u003d1)"
      ]
    },
    {
      "cell_type": "markdown",
      "metadata": {
        "pycharm": {}
      },
      "source": [
        "As you can see, it can be very simple to create a WaveformReducer.\n",
        "\n",
        "There are 3 stages to a `WaveformReducer`:\n",
        "1. When the `WaveformReducer` is initialised, the arguments passed to it dictate which of its columns are activated or disabled. For example `reducer \u003d WaveformMaxReducer(waveform_max\u003dFalse)` would disable the column for the above reducer.\n"
      ]
    },
    {
      "cell_type": "code",
      "execution_count": null,
      "metadata": {
        "pycharm": {}
      },
      "outputs": [],
      "source": [
        "reducer \u003d WaveformMaxReducer(n_pixels\u003d2048, n_samples\u003d128, waveform_max\u003dTrue)\n",
        "print(reducer.active_columns)\n",
        "\n",
        "reducer \u003d WaveformMaxReducer(n_pixels\u003d2048, n_samples\u003d128, waveform_max\u003dFalse)\n",
        "print(reducer.active_columns)"
      ]
    },
    {
      "cell_type": "markdown",
      "metadata": {
        "pycharm": {}
      },
      "source": [
        "2. To process an event, the `process` method is called. The first thing the reducer does is calculate the values that multiple of its columns require, and store them as members of the `WaveformReducer`. This is performed in the `_prepare` method, which is the first thing called by `process`. By default, the `_prepare` method simply attaches the waveform for the current event to the reducer, ready to be processed by the `columns`:"
      ]
    },
    {
      "cell_type": "code",
      "execution_count": null,
      "metadata": {
        "pycharm": {}
      },
      "outputs": [],
      "source": [
        "import numpy as np\n",
        "\n",
        "reducer \u003d WaveformMaxReducer(n_pixels\u003d2048, n_samples\u003d128, waveform_max\u003dTrue)\n",
        "waveforms \u003d np.random.rand(2048, 128)\n",
        "reducer._prepare(waveforms)\n",
        "print((waveforms \u003d\u003d reducer.waveforms).all())"
      ]
    },
    {
      "cell_type": "markdown",
      "metadata": {
        "pycharm": {}
      },
      "source": [
        "(It is important to not that it is not necessary to call the `_prepare` method yourself, it is automatically called when calling `process`.\n",
        "\n",
        "3. The active columns are looped through, and a dict containing the extracted values per pixel for each column is produced and returned:"
      ]
    },
    {
      "cell_type": "code",
      "execution_count": null,
      "metadata": {
        "pycharm": {}
      },
      "outputs": [],
      "source": [
        "import numpy as np\n",
        "\n",
        "reducer \u003d WaveformMaxReducer(n_pixels\u003d2048, n_samples\u003d128, waveform_max\u003dTrue)\n",
        "waveforms \u003d np.random.rand(2048, 128)\n",
        "params \u003d reducer.process(waveforms)\n",
        "print(params)\n",
        "print(params[\u0027waveform_max\u0027].shape)"
      ]
    },
    {
      "cell_type": "markdown",
      "metadata": {
        "pycharm": {}
      },
      "source": [
        "## column\n",
        "\n",
        "The purpose of the column decorator is to identify the items that are to be included as column in the extracted dl1 file. \n",
        "\n",
        "It is expected that a `column` returns a numpy array of size n_pixels, and uses the `self.waveforms` attribute to perform the calculation (or other pre-calculated attributes from the `_prepare` method.\n",
        "\n",
        "No two columns can have the same name, even if they are in different `WaveformReducers`, ensuring that columns are unique. If a column with a duplicate name is defined in a different `WaveformReducer`, an error is raised:"
      ]
    },
    {
      "cell_type": "code",
      "execution_count": null,
      "metadata": {
        "pycharm": {}
      },
      "outputs": [],
      "source": [
        "from CHECLabPy.core.reducer import WaveformReducer, column\n",
        "\n",
        "class WaveformMaxReducer2(WaveformReducer):\n",
        "    @column\n",
        "    def waveform_max(self):\n",
        "        return self.waveforms.max(axis\u003d1)"
      ]
    },
    {
      "cell_type": "markdown",
      "metadata": {
        "pycharm": {}
      },
      "source": [
        "## Chain\n",
        "\n",
        "The purpose of `Chain` is to loop over all defined WaveformReducers, and accumulate the column results for all activated columns. If a WaveformReducer has no active columns, it is skipped. This means that now multiple `WaveformReducers` can contribute to the same dl1 file.\n",
        "\n",
        "The `Chain` class also defines which columns are active by default, and can also read a yaml configuration file, allowing the user to select the active columns from the command line by specifying a path to a config file. This config file path can be specified as an argument to `extract_dl1.py`.\n"
      ]
    },
    {
      "cell_type": "code",
      "execution_count": null,
      "metadata": {
        "pycharm": {}
      },
      "outputs": [],
      "source": [
        "from CHECLabPy.data import get_file\n",
        "config_path \u003d get_file(\"extractor_config.yml\")"
      ]
    },
    {
      "cell_type": "code",
      "execution_count": null,
      "metadata": {
        "pycharm": {}
      },
      "outputs": [],
      "source": [
        "!echo \"waveform_max: True\\ncharge_averagewf: True\" \u003e $config_path\n",
        "!cat $config_path"
      ]
    },
    {
      "cell_type": "code",
      "execution_count": null,
      "metadata": {
        "pycharm": {}
      },
      "outputs": [],
      "source": [
        "import numpy as np\n",
        "from CHECLabPy.core.chain import WaveformReducerChain\n",
        "\n",
        "chain \u003d WaveformReducerChain(n_pixels\u003d2048, n_samples\u003d128, config_path\u003dconfig_path)\n",
        "waveforms \u003d np.random.rand(2048, 128)\n",
        "params \u003d chain.process(waveforms)\n",
        "print(\"\\n\", params)"
      ]
    },
    {
      "cell_type": "markdown",
      "metadata": {
        "pycharm": {}
      },
      "source": [
        "As you can see from the print statement, the chain was correctly configured to contain both the `AverageWF.charge_averagewf` and `WaveformMaxReducer.waveform_max` column. The resulting dict from the `chain.process` method contains two items, with a name corresponding to the column, and an array of n_pixles as the value."
      ]
    },
    {
      "cell_type": "markdown",
      "metadata": {
        "pycharm": {}
      },
      "source": "## scripts/generate_config.py\n\nAs described in the \"2_Reducing_R1_to_DL1.ipynb\" tutorial, this script produces a config file that can be used as input to `extract_dl1.py`. It also includes the docstring of each `WaveformReducer` and `column`, providing insight into what is stored in each column."
    }
  ],
  "metadata": {
    "kernelspec": {
      "display_name": "cta",
      "language": "python",
      "name": "cta"
    },
    "language_info": {
      "codemirror_mode": {
        "name": "ipython",
        "version": 3
      },
      "file_extension": ".py",
      "mimetype": "text/x-python",
      "name": "python",
      "nbconvert_exporter": "python",
      "pygments_lexer": "ipython3",
      "version": "3.7.2"
    }
  },
  "nbformat": 4,
  "nbformat_minor": 2
}