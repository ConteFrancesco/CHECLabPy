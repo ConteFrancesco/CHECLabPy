{
 "cells": [
  {
   "cell_type": "markdown",
   "metadata": {},
   "source": [
    "# Reducing R1 to DL1\n",
    "\n",
    "This notebook outlines the process of obtaining the *_dl1.h5 file, containing the parameters extracted from the calibrated R1 waveforms.\n",
    "\n",
    "The DL1 information is stored as a pandas.DataFrame in HDF5 format. A DataFrame is an object that acts as a table. It is compatible with numpy methods and allows easy category searching. Learn about pandas.DataFrame at: https://pandas.pydata.org/pandas-docs/stable/dsintro.html#dataframe\n",
    "\n",
    "Each column in the table corresponds to a different parameter that characterises the waveform. Each row in the table corresponds to a different pixel or event.\n",
    "\n",
    "For this tutorial you need TargetDriver, TargetIO and TargetCalib installed.\n",
    "\n",
    "## Setup\n",
    "\n",
    "Prepare your machine and environment by following the instructions at: https://forge.in2p3.fr/projects/gct/wiki/Installing_CHEC_Software\n",
    "\n",
    "If you do not wish to install the TARGET libraries as you will only be reading DL1 files, you can skip this tutorial.\n",
    "\n",
    "Check the installation was successful by running these lines:"
   ]
  },
  {
   "cell_type": "code",
   "execution_count": null,
   "metadata": {},
   "outputs": [],
   "source": [
    "import target_driver\n",
    "import target_io\n",
    "import target_calib"
   ]
  },
  {
   "cell_type": "markdown",
   "metadata": {},
   "source": [
    "## Files\n",
    "\n",
    "To run this tutorial you must download a reference dataset (using the username and password Rich has sent around in emails/Slack). This file required for this tutorial is a calibrated R1 file. This run corresponds to a ~50 p.e. illumination run."
   ]
  },
  {
   "cell_type": "code",
   "execution_count": null,
   "metadata": {},
   "outputs": [],
   "source": [
    "username = '***'\n",
    "pw = '***'\n",
    "r1_url = 'https://www.mpi-hd.mpg.de/personalhomes/white/checs/data/d0000_ReferenceData/Run17473_r1.tio'"
   ]
  },
  {
   "cell_type": "code",
   "execution_count": null,
   "metadata": {},
   "outputs": [],
   "source": [
    "!mkdir refdata\n",
    "!wget --user $username --password $pw -P refdata $r1_url"
   ]
  },
  {
   "cell_type": "code",
   "execution_count": null,
   "metadata": {},
   "outputs": [],
   "source": [
    "r1_path = \"refdata/Run17473_r1.tio\""
   ]
  },
  {
   "cell_type": "markdown",
   "metadata": {},
   "source": [
    "## Data Reduction\n",
    "\n",
    "Once you have the R1 (calibrated waveforms) file, you can now extract charge and other parameters from the waveforms. This is where CHECLabPy comes into play. The extract_dl1.py script allows you to specify a reduction method to produce a HDF5 containing a table where each column is parameters extracted per event and pixel."
   ]
  },
  {
   "cell_type": "code",
   "execution_count": null,
   "metadata": {},
   "outputs": [],
   "source": [
    "!extract_dl1 -h"
   ]
  },
  {
   "cell_type": "code",
   "execution_count": null,
   "metadata": {},
   "outputs": [],
   "source": [
    "!extract_dl1 -f $r1_path"
   ]
  },
  {
   "cell_type": "markdown",
   "metadata": {},
   "source": [
    "## Config File\n",
    "\n",
    "As you can see from the output above, a default `WaveformReducerChain` was built from the `columns` of the different `WaveformReducers`. The user is able to configure which columns are included in the DL1 file. This is achieved by specifying a path to a YAML config file with the -c option.\n",
    "\n",
    "To generate an example config file, one can use the generate_dl1_config executable:"
   ]
  },
  {
   "cell_type": "code",
   "execution_count": null,
   "metadata": {},
   "outputs": [],
   "source": [
    "!generate_dl1_config -h"
   ]
  },
  {
   "cell_type": "code",
   "execution_count": null,
   "metadata": {},
   "outputs": [],
   "source": [
    "!generate_dl1_config"
   ]
  },
  {
   "cell_type": "code",
   "execution_count": null,
   "metadata": {},
   "outputs": [],
   "source": [
    "from CHECLabPy.data import get_file\n",
    "config_path = get_file(\"extractor_config.yml\")"
   ]
  },
  {
   "cell_type": "code",
   "execution_count": null,
   "metadata": {},
   "outputs": [],
   "source": [
    "!less $config_path"
   ]
  },
  {
   "cell_type": "markdown",
   "metadata": {},
   "source": [
    "Every column available is printed in the config file, along with its docstring, and the description of the `WaveformReducer` the column belongs to. Additionally, the default setting for the column is also shown.\n",
    "\n",
    "Lets create our own config file, which only activates a single column."
   ]
  },
  {
   "cell_type": "code",
   "execution_count": null,
   "metadata": {},
   "outputs": [],
   "source": [
    "!echo \"charge_cc: True\" > $config_path\n",
    "!cat $config_path"
   ]
  },
  {
   "cell_type": "code",
   "execution_count": null,
   "metadata": {},
   "outputs": [],
   "source": [
    "!extract_dl1 -f $r1_path -c $config_path"
   ]
  },
  {
   "cell_type": "markdown",
   "metadata": {},
   "source": [
    "As you can see, only the single column was included in the `WaveformReducerChain`"
   ]
  }
 ],
 "metadata": {
  "kernelspec": {
   "display_name": "cta",
   "language": "python",
   "name": "cta"
  },
  "language_info": {
   "codemirror_mode": {
    "name": "ipython",
    "version": 3
   },
   "file_extension": ".py",
   "mimetype": "text/x-python",
   "name": "python",
   "nbconvert_exporter": "python",
   "pygments_lexer": "ipython3",
   "version": "3.7.2"
  }
 },
 "nbformat": 4,
 "nbformat_minor": 2
}
