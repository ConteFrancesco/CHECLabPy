{
  "cells": [
    {
      "cell_type": "markdown",
      "metadata": {
        "pycharm": {}
      },
      "source": [
        "# Reading DL1 Files and Performing Analysis\n",
        "\n",
        "You now have the data reduced to the \\_dl1.h5 level, using the data reduction method you wanted. The following sections will show you how to open these files and perform analysis with them.\n",
        "\n",
        "## Introduction\n",
        "\n",
        "The .h5 extension is used by HDF5 files https://support.hdfgroup.org/HDF5/whatishdf5.html.\n",
        "\n",
        "Inside the HDF5 files are HDFStores, which are the format pandas DataFrames are stored inside HDF5 files. You can read about HDFStores here: https://pandas.pydata.org/pandas-docs/stable/io.html#hdf5-pytables.\n",
        "\n",
        "Pandas DataFrames are a tabular data structure widely used by data scientists for Python analysis: https://pandas.pydata.org/pandas-docs/stable/dsintro.html#dataframe. They allow easy querying, sorting, grouping, and processing of data.\n",
        "\n",
        "Inside the DL1 table, each column in the table corresponds to a different parameter that characterises the waveform, and each row corresponds to a different pixel or event.\n",
        "\n",
        "Once you have DL1 files, you are in a position to perform investigations on the properties of the waveforms from the camera. To perform this analysis, all you need is CHECLabPy - you do not need to have any of the TARGET libraries installed."
      ]
    },
    {
      "cell_type": "markdown",
      "metadata": {
        "pycharm": {}
      },
      "source": [
        "## Files\n",
        "\n",
        "To run this tutorial you must have a DL1 file. Here I will use the DL1 file produced from the \"2_Reducing_R1_to_DL1.ipynb\" tutorial:"
      ]
    },
    {
      "cell_type": "code",
      "execution_count": 2,
      "metadata": {
        "pycharm": {}
      },
      "outputs": [],
      "source": [
        "dl1_path \u003d \"refdata/Run17473_dl1.h5\""
      ]
    },
    {
      "cell_type": "markdown",
      "metadata": {
        "pycharm": {}
      },
      "source": [
        "## Reading DL1 Files\n",
        "\n",
        "There are four main contents to the DL1 file: the metadata, the config used to create the file, the pixel position mapping, and the DL1 DataFrame"
      ]
    },
    {
      "cell_type": "code",
      "execution_count": 3,
      "metadata": {
        "pycharm": {}
      },
      "outputs": [
        {
          "name": "stdout",
          "output_type": "stream",
          "text": [
            "Opening HDF5 file: refdata/Run17473_dl1.h5\n"
          ]
        }
      ],
      "source": [
        "from CHECLabPy.core.io import DL1Reader\n",
        "reader \u003d DL1Reader(dl1_path)"
      ]
    },
    {
      "cell_type": "code",
      "execution_count": null,
      "metadata": {
        "pycharm": {}
      },
      "outputs": [],
      "source": [
        "reader.metadata"
      ]
    },
    {
      "cell_type": "code",
      "execution_count": null,
      "metadata": {
        "pycharm": {}
      },
      "outputs": [],
      "source": [
        "reader.config"
      ]
    },
    {
      "cell_type": "code",
      "execution_count": null,
      "metadata": {
        "pycharm": {}
      },
      "outputs": [],
      "source": [
        "reader.mapping"
      ]
    },
    {
      "cell_type": "code",
      "execution_count": null,
      "metadata": {
        "pycharm": {}
      },
      "outputs": [],
      "source": [
        "reader.load_entire_table()"
      ]
    },
    {
      "cell_type": "markdown",
      "metadata": {
        "pycharm": {}
      },
      "source": [
        "Additionally, the config used to create the DL1 file is stored, and the correct mapping for the pixels on the camera:"
      ]
    },
    {
      "cell_type": "markdown",
      "metadata": {
        "pycharm": {}
      },
      "source": [
        "As you can see, the structure of the DL1 DataFrame is very intuitive, with each row reprenting a new event+pixel. Some extra useful information about the DataFrame can be obtained:"
      ]
    },
    {
      "cell_type": "code",
      "execution_count": null,
      "metadata": {
        "pycharm": {}
      },
      "outputs": [],
      "source": [
        "print(\"n_bytes \u003d \", reader.n_bytes * 1E-9, \"GB\")\n",
        "print(\"n_rows \u003d \", reader.n_rows)\n",
        "print(\"columns \u003d \", reader.columns)\n",
        "print(\"n_events \u003d \", reader.n_events)\n",
        "print(\"n_pixels \u003d \", reader.n_pixels)"
      ]
    },
    {
      "cell_type": "markdown",
      "metadata": {
        "pycharm": {}
      },
      "source": [
        "As shown above, the `reader.load_entire_table()` method loads the entire table into memory. This may be a problem for very large runs, therefore there are a variety of methods for only loading a portion of the table:"
      ]
    },
    {
      "cell_type": "code",
      "execution_count": null,
      "metadata": {
        "pycharm": {}
      },
      "outputs": [],
      "source": [
        "# Obtain the nth event\n",
        "df \u003d reader[4]\n",
        "df"
      ]
    },
    {
      "cell_type": "code",
      "execution_count": null,
      "metadata": {
        "pycharm": {}
      },
      "outputs": [],
      "source": [
        "# Load a single column from table\n",
        "charge \u003d reader.select_column(\u0027charge_cc\u0027)\n",
        "charge \u003d charge.values # Convert from Pandas Series to numpy array\n",
        "charge"
      ]
    },
    {
      "cell_type": "code",
      "execution_count": null,
      "metadata": {
        "pycharm": {}
      },
      "outputs": [],
      "source": [
        "# Load a single column for rows 0 to 100\n",
        "charge \u003d reader.select_column(\u0027charge_cc\u0027, start\u003d0, stop\u003d100)\n",
        "charge \u003d charge.values # Convert from Pandas Series to numpy array\n",
        "charge"
      ]
    },
    {
      "cell_type": "code",
      "execution_count": null,
      "metadata": {
        "pycharm": {}
      },
      "outputs": [],
      "source": [
        "# Load multiple columns with the select_columns method\n",
        "pixel, charge \u003d reader.select_columns([\u0027pixel\u0027, \u0027charge_cc\u0027])\n",
        "charge \u003d charge.values # Convert from Pandas Series to numpy array\n",
        "pixel \u003d pixel.values # Convert from Pandas Series to numpy array\n",
        "print(\u0027charge \u003d \u0027, charge)\n",
        "print(\u0027pixel \u003d \u0027, pixel)"
      ]
    },
    {
      "cell_type": "code",
      "execution_count": null,
      "metadata": {
        "pycharm": {}
      },
      "outputs": [],
      "source": [
        "# Loop through the rows\n",
        "for row in reader.iterate_over_rows():\n",
        "    break\n",
        "    \n",
        "row"
      ]
    },
    {
      "cell_type": "code",
      "execution_count": null,
      "metadata": {
        "pycharm": {}
      },
      "outputs": [],
      "source": [
        "# Loop through the events\n",
        "for df in reader.iterate_over_events():\n",
        "    break\n",
        "    \n",
        "df"
      ]
    },
    {
      "cell_type": "code",
      "execution_count": null,
      "metadata": {
        "pycharm": {}
      },
      "outputs": [],
      "source": [
        "# Loop through chunks\n",
        "for df in reader.iterate_over_chunks(chunksize\u003d4000):\n",
        "    break\n",
        "    \n",
        "df"
      ]
    },
    {
      "cell_type": "markdown",
      "metadata": {
        "pycharm": {}
      },
      "source": [
        "By using the \"iterate\" methods, one can process a portion of the table at a time, and consolidate the results at the end, avoiding the need to load the entire table in memory."
      ]
    },
    {
      "cell_type": "markdown",
      "metadata": {
        "pycharm": {}
      },
      "source": [
        "## Analysis Example\n",
        "\n",
        "Here I will show two simple examples of some analysis:"
      ]
    },
    {
      "cell_type": "code",
      "execution_count": null,
      "metadata": {
        "pycharm": {}
      },
      "outputs": [],
      "source": [
        "%matplotlib inline"
      ]
    },
    {
      "cell_type": "code",
      "execution_count": null,
      "metadata": {
        "pycharm": {}
      },
      "outputs": [],
      "source": [
        "# Creating a histogram of all the cross-correlated charge in the DL1 file, and printng the charge corresponding to the maximum bin\n",
        "from matplotlib import pyplot as plt\n",
        "from CHECLabPy.core.io import DL1Reader\n",
        "reader \u003d DL1Reader(dl1_path)\n",
        "charge \u003d reader.select_column(\u0027charge_cc\u0027).values\n",
        "hist, edges, _ \u003d plt.hist(charge, bins\u003d100)\n",
        "between \u003d (edges[1:] + edges[:-1]) / 2\n",
        "max_ \u003d between[hist.argmax()]\n",
        "print(max_)"
      ]
    },
    {
      "cell_type": "code",
      "execution_count": null,
      "metadata": {
        "pycharm": {}
      },
      "outputs": [],
      "source": "# Plotting a camera image of charge extracted per pixel for the nth event\nfrom matplotlib import pyplot as plt\nfrom CHECLabPy.core.io import DL1Reader\nfrom CHECLabPy.plotting.camera import CameraImage\n\nreader \u003d DL1Reader(dl1_path)\n\ncharge \u003d reader.select_column(\u0027charge_cc\u0027).values\niev \u003d reader.select_column(\u0027iev\u0027).values\ncharge \u003d charge[iev \u003d\u003d 10]\n\n# Or alternatively:\ncharge \u003d reader[10][\u0027charge_cc\u0027].values\n\ncamera \u003d CameraImage.from_mapping(reader.mapping)\ncamera.image \u003d charge\ncamera.add_colorbar(label\u003d\"Charge\")\ncamera.annotate_on_telescope_up()\n\nplt.show()"
    }
  ],
  "metadata": {
    "kernelspec": {
      "display_name": "cta",
      "language": "python",
      "name": "cta"
    },
    "language_info": {
      "codemirror_mode": {
        "name": "ipython",
        "version": 3
      },
      "file_extension": ".py",
      "mimetype": "text/x-python",
      "name": "python",
      "nbconvert_exporter": "python",
      "pygments_lexer": "ipython3",
      "version": "3.7.2"
    }
  },
  "nbformat": 4,
  "nbformat_minor": 2
}