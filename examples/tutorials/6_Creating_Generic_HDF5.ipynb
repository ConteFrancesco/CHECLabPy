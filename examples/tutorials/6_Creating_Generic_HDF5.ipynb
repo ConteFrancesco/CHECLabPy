{
  "cells": [
    {
      "cell_type": "markdown",
      "metadata": {
        "pycharm": {}
      },
      "source": [
        "# Creating Generic HDF5 Files\n",
        "\n",
        "The DL1 files shown in the previous tutorials are created and read by subclasses to the `HDF5Writer` and `HDF5Reader` classes, respectively. These classes can be used for more custom purposes, such as the storage of some data in a tabular format. I personally find this very useful, and many of my personal scripts store data into a HDF5 file as a intermediary step (using `HDF5Writer`), while a second script will create the plot from this file (using `HDF5Reader`)."
      ]
    },
    {
      "cell_type": "markdown",
      "metadata": {
        "pycharm": {}
      },
      "source": [
        "## Reminder about HDF5 and DataFrames\n",
        "\n",
        "The .h5 extension is used by HDF5 files https://support.hdfgroup.org/HDF5/whatishdf5.html.\n",
        "\n",
        "Inside the HDF5 files are HDFStores, which are the format pandas DataFrames are stored inside HDF5 files. You can read about HDFStores here: https://pandas.pydata.org/pandas-docs/stable/io.html#hdf5-pytables.\n",
        "\n",
        "Pandas DataFrames are a tabular data structure widely used by data scientists for Python analysis: https://pandas.pydata.org/pandas-docs/stable/dsintro.html#dataframe. They allow easy querying, sorting, grouping, and processing of data."
      ]
    },
    {
      "cell_type": "markdown",
      "metadata": {
        "pycharm": {}
      },
      "source": [
        "## HDF5Writer Example"
      ]
    },
    {
      "cell_type": "markdown",
      "metadata": {
        "pycharm": {}
      },
      "source": [
        "The most straight-forward way to write to a HDF5 file is via the `write` method:"
      ]
    },
    {
      "cell_type": "code",
      "execution_count": null,
      "metadata": {
        "pycharm": {}
      },
      "outputs": [],
      "source": [
        "import pandas as pd\n",
        "import numpy as np\n",
        "from CHECLabPy.core.io import HDF5Writer\n",
        "\n",
        "x \u003d np.arange(100)\n",
        "\n",
        "y2 \u003d x**2\n",
        "df2 \u003d pd.DataFrame(dict(\n",
        "    x\u003dx,\n",
        "    y\u003dy2,\n",
        "))\n",
        "\n",
        "y5 \u003d x**5\n",
        "df5 \u003d pd.DataFrame(dict(\n",
        "    x\u003dx,\n",
        "    y\u003dy5,\n",
        "))\n",
        "\n",
        "metadata_2 \u003d dict(\n",
        "    size\u003dx.size,\n",
        "    power\u003d2,\n",
        ")\n",
        "metadata_5 \u003d dict(\n",
        "    size\u003dx.size,\n",
        "    power\u003d5,\n",
        ")\n",
        "\n",
        "with HDF5Writer(\"refdata/data1.h5\") as writer:\n",
        "    writer.write(data_2\u003ddf2, data_5\u003ddf5)\n",
        "    writer.add_metadata(key\u003d\u0027data_2\u0027, **metadata_2)\n",
        "    writer.add_metadata(key\u003d\u0027data_5\u0027, **metadata_5)\n",
        "    # Add a second metadata field for the data_5 table\n",
        "    writer.add_metadata(key\u003d\u0027data_5\u0027, name\u003d\u0027test\u0027, **metadata_5)"
      ]
    },
    {
      "cell_type": "markdown",
      "metadata": {
        "pycharm": {}
      },
      "source": [
        "However, if you are instead iterating through a dataset, and cannot hold the entire result in memory for storage, you can instead use the `append` method. This is used in the extract_dl1 script."
      ]
    },
    {
      "cell_type": "code",
      "execution_count": null,
      "metadata": {
        "pycharm": {}
      },
      "outputs": [],
      "source": [
        "import pandas as pd\n",
        "import numpy as np\n",
        "from CHECLabPy.core.io import HDF5Writer\n",
        "\n",
        "metadata \u003d dict(\n",
        "    size\u003d100*3,\n",
        ")\n",
        "\n",
        "with HDF5Writer(\"refdata/data2.h5\") as writer:\n",
        "    for x in range(100):\n",
        "        power \u003d np.array([2, 4, 5])\n",
        "        y \u003d x**power\n",
        "        df \u003d pd.DataFrame(dict(\n",
        "            x\u003dx,\n",
        "            y\u003dy,\n",
        "            power\u003dpower,\n",
        "        ))\n",
        "        writer.append(df, key\u003d\u0027data\u0027)\n",
        "    writer.add_metadata(key\u003d\u0027data\u0027, **metadata)"
      ]
    },
    {
      "cell_type": "markdown",
      "metadata": {
        "pycharm": {}
      },
      "source": [
        "If you are processing data from a TIO or DL1 file, you may wish to store the pixel mapping inside the HDF5 file with your results, which could be useful for plotting the results later:"
      ]
    },
    {
      "cell_type": "code",
      "execution_count": null,
      "metadata": {
        "pycharm": {}
      },
      "outputs": [],
      "source": [
        "# Plotting a camera image of charge extracted per pixel for the nth event\n",
        "import pandas as pd\n",
        "from CHECLabPy.core.io import HDF5Writer\n",
        "from CHECLabPy.core.io import DL1Reader\n",
        "\n",
        "dl1_path \u003d \"refdata/Run17473_dl1.h5\"\n",
        "reader \u003d DL1Reader(dl1_path)\n",
        "\n",
        "pixel, charge \u003d reader.select_columns([\u0027pixel\u0027, \u0027charge_cc\u0027])\n",
        "\n",
        "df \u003d pd.DataFrame(dict(\n",
        "    pixel\u003dpixel,\n",
        "    charge\u003dcharge,\n",
        "))\n",
        "\n",
        "with HDF5Writer(\"refdata/data3.h5\") as writer:\n",
        "    writer.write(data\u003ddf)\n",
        "    writer.add_mapping(reader.mapping)"
      ]
    },
    {
      "cell_type": "markdown",
      "metadata": {
        "pycharm": {}
      },
      "source": [
        "## HDF5Reader Example\n",
        "\n",
        "It is possible to see what contents of a file are accessible with the `dataframe_keys` and `metadata_keys` attributes:"
      ]
    },
    {
      "cell_type": "code",
      "execution_count": null,
      "metadata": {
        "pycharm": {}
      },
      "outputs": [],
      "source": [
        "from CHECLabPy.core.io import HDF5Reader\n",
        "\n",
        "with HDF5Reader(\"refdata/data1.h5\") as reader:\n",
        "    print(reader.dataframe_keys)\n",
        "    print(reader.metadata_keys)"
      ]
    },
    {
      "cell_type": "markdown",
      "metadata": {
        "pycharm": {}
      },
      "source": [
        "Reading the data back from the file is achieved as follows:"
      ]
    },
    {
      "cell_type": "code",
      "execution_count": null,
      "metadata": {
        "pycharm": {}
      },
      "outputs": [],
      "source": [
        "from CHECLabPy.core.io import HDF5Reader\n",
        "\n",
        "with HDF5Reader(\"refdata/data1.h5\") as reader:\n",
        "    df_2 \u003d reader.read(\"data_2\")\n",
        "    df_5 \u003d reader.read(\"data_5\")\n",
        "    metadata_2 \u003d reader.get_metadata(key\u003d\u0027data_2\u0027)\n",
        "    metadata_5 \u003d reader.get_metadata(key\u003d\u0027data_5\u0027, name\u003d\u0027test\u0027)\n",
        "    \n",
        "print(df_2)\n",
        "print(metadata_2)"
      ]
    },
    {
      "cell_type": "code",
      "execution_count": null,
      "metadata": {
        "pycharm": {}
      },
      "outputs": [],
      "source": [
        "from CHECLabPy.core.io import HDF5Reader\n",
        "\n",
        "with HDF5Reader(\"refdata/data2.h5\") as reader:\n",
        "    df \u003d reader.read(\"data\")\n",
        "    metadata \u003d reader.get_metadata(key\u003d\u0027data\u0027)\n",
        "    \n",
        "print(df)\n",
        "print(metadata)"
      ]
    },
    {
      "cell_type": "code",
      "execution_count": null,
      "metadata": {
        "pycharm": {}
      },
      "outputs": [],
      "source": "from CHECLabPy.core.io import HDF5Reader\n\nwith HDF5Reader(\"refdata/data3.h5\") as reader:\n    df \u003d reader.read(\"data\")\n    mapping \u003d reader.get_mapping()\n    \nprint(df)\nprint(mapping)"
    }
  ],
  "metadata": {
    "kernelspec": {
      "display_name": "cta",
      "language": "python",
      "name": "cta"
    },
    "language_info": {
      "codemirror_mode": {
        "name": "ipython",
        "version": 3
      },
      "file_extension": ".py",
      "mimetype": "text/x-python",
      "name": "python",
      "nbconvert_exporter": "python",
      "pygments_lexer": "ipython3",
      "version": "3.7.2"
    }
  },
  "nbformat": 4,
  "nbformat_minor": 2
}